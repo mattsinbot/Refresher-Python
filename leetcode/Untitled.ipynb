{
 "cells": [
  {
   "cell_type": "code",
   "execution_count": 56,
   "metadata": {},
   "outputs": [],
   "source": [
    "def numberOfPairs(a, k):\n",
    "    pair_list = list()\n",
    "    for i in range(len(a)):\n",
    "        for j in range(i,len(a)):\n",
    "            if a[i] + a[j] == k:\n",
    "                pair_list.append([a[i], a[j]])\n",
    "    sorted_pair_list = list(map(sorted,pair_list))\n",
    "    unique_pair_list = list(set(map(tuple, sorted_pair_list)))\n",
    "    \n",
    "    print(pair_list)\n",
    "    print(sorted_pair_list)    \n",
    "    print(unique_pair_list)\n",
    "    print(\"Number of unique pairs: {}\".format(len(unique_pair_list)))\n",
    "    \n",
    "    return len(unique_pair_list)"
   ]
  },
  {
   "cell_type": "code",
   "execution_count": 59,
   "metadata": {},
   "outputs": [
    {
     "name": "stdout",
     "output_type": "stream",
     "text": [
      "[[1, 3], [1, 3], [3, 1], [3, 1], [1, 3], [3, 1]]\n",
      "[[1, 3], [1, 3], [1, 3], [1, 3], [1, 3], [1, 3]]\n",
      "[(1, 3)]\n",
      "Number of unique pairs: 1\n"
     ]
    },
    {
     "data": {
      "text/plain": [
       "1"
      ]
     },
     "execution_count": 59,
     "metadata": {},
     "output_type": "execute_result"
    }
   ],
   "source": [
    "a = [1, 3, 46, 1, 3, 9, 1, 46]\n",
    "k = 4\n",
    "numberOfPairs(a, k)"
   ]
  },
  {
   "cell_type": "code",
   "execution_count": 77,
   "metadata": {},
   "outputs": [],
   "source": [
    "def subsetsum(array,num):\n",
    "    all_subsets = list()\n",
    "    if num == 0 or num < 1:\n",
    "        return None\n",
    "    elif len(array) == 0:\n",
    "        return None\n",
    "    else:\n",
    "        if array[0] == num:\n",
    "            return [array[0]]\n",
    "        else:\n",
    "            with_v = subsetsum(array[1:],(num - array[0]))\n",
    "            if with_v:\n",
    "                return [array[0]] + with_v\n",
    "            else:\n",
    "                return subsetsum(array[1:],num)"
   ]
  },
  {
   "cell_type": "code",
   "execution_count": 79,
   "metadata": {},
   "outputs": [
    {
     "data": {
      "text/plain": [
       "[1, 2, 3, 4]"
      ]
     },
     "execution_count": 79,
     "metadata": {},
     "output_type": "execute_result"
    }
   ],
   "source": [
    "arr = [1, 2, 3, 4, 5, 6, 7, 8, 9, 10]\n",
    "target_sum = 10\n",
    "subsetsum(arr, target_sum)"
   ]
  },
  {
   "cell_type": "code",
   "execution_count": 65,
   "metadata": {},
   "outputs": [
    {
     "name": "stdout",
     "output_type": "stream",
     "text": [
      "[2, 3, 5, 6, 8]\n",
      "[3, 5, 6, 8, 10]\n"
     ]
    }
   ],
   "source": [
    "for subset in (arr[:-1], arr[1:]):\n",
    "    print(subset)"
   ]
  },
  {
   "cell_type": "code",
   "execution_count": null,
   "metadata": {},
   "outputs": [],
   "source": []
  }
 ],
 "metadata": {
  "kernelspec": {
   "display_name": "Python 3",
   "language": "python",
   "name": "python3"
  },
  "language_info": {
   "codemirror_mode": {
    "name": "ipython",
    "version": 3
   },
   "file_extension": ".py",
   "mimetype": "text/x-python",
   "name": "python",
   "nbconvert_exporter": "python",
   "pygments_lexer": "ipython3",
   "version": "3.6.8"
  }
 },
 "nbformat": 4,
 "nbformat_minor": 2
}
