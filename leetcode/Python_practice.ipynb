{
 "cells": [
  {
   "cell_type": "code",
   "execution_count": 10,
   "metadata": {},
   "outputs": [
    {
     "name": "stdout",
     "output_type": "stream",
     "text": [
      "[1, 2, 3]\n",
      "[4, 2, 2]\n",
      "Total pairs: 4\n"
     ]
    }
   ],
   "source": [
    "socks_list = [1, 2, 3, 1, 1, 2, 3, 1]\n",
    "\n",
    "unique_list = list()\n",
    "\n",
    "for ele in socks_list:\n",
    "    if ele not in unique_list:\n",
    "        unique_list.append(ele)        \n",
    "print(unique_list)\n",
    "\n",
    "unique_ele_occurance = [0]*len(unique_list)\n",
    "for ele in socks_list:\n",
    "    i = 0\n",
    "    for x in unique_list:\n",
    "        if ele == x:\n",
    "            unique_ele_occurance[i] += 1\n",
    "            break\n",
    "        i += 1\n",
    "print(unique_ele_occurance)\n",
    "\n",
    "# Find number of complete pairs\n",
    "complete_pair = 0\n",
    "for x in unique_ele_occurance:\n",
    "    complete_pair += x//2\n",
    "print(\"Total pairs: {}\".format(complete_pair))"
   ]
  },
  {
   "cell_type": "code",
   "execution_count": 32,
   "metadata": {},
   "outputs": [
    {
     "name": "stdout",
     "output_type": "stream",
     "text": [
      "{'1': 4, '2': 2, '3': 2}\n",
      "Complete number of pairs: 4\n"
     ]
    }
   ],
   "source": [
    "socks_list = [1, 2, 3, 1, 1, 2, 3, 1]\n",
    "\n",
    "socks_dict = {}\n",
    "for ele in socks_list:\n",
    "    str_ele = str(ele)\n",
    "    if str_ele not in socks_dict.keys():\n",
    "        socks_dict[str_ele] = 1\n",
    "    else:\n",
    "        socks_dict[str_ele] += 1\n",
    "print(socks_dict)\n",
    "\n",
    "pair = 0\n",
    "for val in socks_dict.values():\n",
    "    pair += val//2\n",
    "print(\"Complete number of pairs: {}\".format(pair))"
   ]
  },
  {
   "cell_type": "code",
   "execution_count": 1,
   "metadata": {},
   "outputs": [
    {
     "name": "stdout",
     "output_type": "stream",
     "text": [
      "Turn from front page\n"
     ]
    }
   ],
   "source": [
    "n = 11\n",
    "p = 5\n",
    "\n",
    "max_possible_turn = n//2\n",
    "turn_from_start = p//2\n",
    "\n",
    "if max_possible_turn/2 > turn_from_start:\n",
    "    print(\"Turn from front page\")\n",
    "else:\n",
    "    print(\"Turn from back\")\n",
    "        "
   ]
  },
  {
   "cell_type": "markdown",
   "metadata": {},
   "source": [
    "### Compute Prime Nunbers"
   ]
  },
  {
   "cell_type": "code",
   "execution_count": 5,
   "metadata": {},
   "outputs": [
    {
     "name": "stdout",
     "output_type": "stream",
     "text": [
      "List of prime numbers from 1 to 50:\n",
      "[2, 3, 5, 7, 11, 13, 17, 19, 23, 29, 31, 37, 41, 43, 47]\n"
     ]
    }
   ],
   "source": [
    "n = 50\n",
    "\n",
    "prime_list = [2]\n",
    "for i in range(3,n+1):\n",
    "    prime_flag = True\n",
    "    for j in prime_list:\n",
    "        if i%j == 0:\n",
    "            prime_flag = False\n",
    "            break\n",
    "    if prime_flag:\n",
    "        prime_list.append(i)\n",
    "print(\"List of prime numbers from 1 to {}:\".format(n))\n",
    "print(prime_list)"
   ]
  },
  {
   "cell_type": "markdown",
   "metadata": {},
   "source": [
    "### Factorize with prime numbers"
   ]
  },
  {
   "cell_type": "code",
   "execution_count": 6,
   "metadata": {},
   "outputs": [
    {
     "name": "stdout",
     "output_type": "stream",
     "text": [
      "[1, 0, 2, 0, 0, 0, 0, 0, 0, 0, 0, 0, 0, 0, 0]\n"
     ]
    }
   ],
   "source": [
    "occurances = [0]*len(prime_list)\n",
    "while n!=1:\n",
    "    for pf_indx, pf in enumerate(prime_list):\n",
    "        if n%pf == 0:\n",
    "            n /= pf\n",
    "            occurances[pf_indx] += 1\n",
    "            break\n",
    "print(occurances)"
   ]
  },
  {
   "cell_type": "markdown",
   "metadata": {},
   "source": [
    "### Sorting a list"
   ]
  },
  {
   "cell_type": "code",
   "execution_count": 16,
   "metadata": {},
   "outputs": [
    {
     "name": "stdout",
     "output_type": "stream",
     "text": [
      "[17, 20, 26, 31, 44, 54, 55, 77, 93]\n"
     ]
    }
   ],
   "source": [
    "w = [1, 5, 3, 6, 9, 7, 8]\n",
    "\n",
    "def quickSort(alist):\n",
    "   quickSortHelper(alist,0,len(alist)-1)\n",
    "\n",
    "def quickSortHelper(alist,first,last):\n",
    "   if first<last:\n",
    "\n",
    "       splitpoint = partition(alist,first,last)\n",
    "\n",
    "       quickSortHelper(alist,first,splitpoint-1)\n",
    "       quickSortHelper(alist,splitpoint+1,last)\n",
    "\n",
    "\n",
    "def partition(alist,first,last):\n",
    "   pivotvalue = alist[first]\n",
    "\n",
    "   leftmark = first+1\n",
    "   rightmark = last\n",
    "\n",
    "   done = False\n",
    "   while not done:\n",
    "\n",
    "       while leftmark <= rightmark and alist[leftmark] <= pivotvalue:\n",
    "           leftmark = leftmark + 1\n",
    "\n",
    "       while alist[rightmark] >= pivotvalue and rightmark >= leftmark:\n",
    "           rightmark = rightmark -1\n",
    "\n",
    "       if rightmark < leftmark:\n",
    "           done = True\n",
    "       else:\n",
    "           temp = alist[leftmark]\n",
    "           alist[leftmark] = alist[rightmark]\n",
    "           alist[rightmark] = temp\n",
    "\n",
    "   temp = alist[first]\n",
    "   alist[first] = alist[rightmark]\n",
    "   alist[rightmark] = temp\n",
    "\n",
    "\n",
    "   return rightmark\n",
    "\n",
    "alist = [54,26,93,17,77,31,44,55,20]\n",
    "quickSort(alist)\n",
    "print(alist)"
   ]
  },
  {
   "cell_type": "markdown",
   "metadata": {},
   "source": [
    "### Count valley"
   ]
  },
  {
   "cell_type": "code",
   "execution_count": 23,
   "metadata": {},
   "outputs": [
    {
     "name": "stdout",
     "output_type": "stream",
     "text": [
      "Number of Valley : 1\n"
     ]
    }
   ],
   "source": [
    "def count_valley(s, n):\n",
    "    count_mountain = 0\n",
    "    count_valley = 0\n",
    "    sum = 0\n",
    "    for i in s:\n",
    "        if i == \"U\":\n",
    "            val = 1\n",
    "        else:\n",
    "            val = -1\n",
    "        sum += val\n",
    "        if sum == 0 and i == \"U\":\n",
    "            count_valley += 1\n",
    "    return count_valley\n",
    "\n",
    "s = \"UDDDUDUU\"\n",
    "n = 8\n",
    "print(\"Number of Valley : {}\".format(count_valley(s, n)))"
   ]
  },
  {
   "cell_type": "markdown",
   "metadata": {},
   "source": [
    "### Absolute difference between the sums of diagonals"
   ]
  },
  {
   "cell_type": "code",
   "execution_count": 27,
   "metadata": {},
   "outputs": [
    {
     "name": "stdout",
     "output_type": "stream",
     "text": [
      "Absolute difference between two diagonals: 15\n"
     ]
    }
   ],
   "source": [
    "def diag_diff(sz_d, ip_mat):\n",
    "    diag1_sum, diag2_sum = 0, 0\n",
    "    for i in range(len(ip_mat)):\n",
    "        diag1_sum += ip_mat[i][i]\n",
    "        diag2_sum += ip_mat[i][sz_d-i-1]\n",
    "    return abs(diag1_sum - diag2_sum)\n",
    "\n",
    "ipmat = [[11, 2, 4], [4, 5, 6], [10, 8, -12]]\n",
    "sz = 3\n",
    "print(\"Absolute difference between two diagonals: {}\".format(diag_diff(sz, ipmat)))"
   ]
  },
  {
   "cell_type": "markdown",
   "metadata": {},
   "source": [
    "### Count Apples and Oranges"
   ]
  },
  {
   "cell_type": "code",
   "execution_count": 28,
   "metadata": {},
   "outputs": [
    {
     "data": {
      "text/plain": [
       "(1, 2)"
      ]
     },
     "execution_count": 28,
     "metadata": {},
     "output_type": "execute_result"
    }
   ],
   "source": [
    "def countApplesAndOranges(s, t, a, b, apples, oranges):\n",
    "    valid_apple, valid_orange = 0, 0\n",
    "    \n",
    "    for apple in apples:\n",
    "        absolute_position = a + apple\n",
    "        if absolute_position >= s and absolute_position <= t:\n",
    "            valid_apple += 1\n",
    "            \n",
    "    for orange in oranges:\n",
    "        absolute_position = b + orange\n",
    "        if absolute_position >= s and absolute_position <= t:\n",
    "            valid_orange += 1\n",
    "            \n",
    "    return valid_apple, valid_orange\n",
    "\n",
    "s = 7\n",
    "t = 10\n",
    "a = 4\n",
    "b = 12\n",
    "apples = [2, 3, -4]\n",
    "oranges = [3, -2, -4]\n",
    "countApplesAndOranges(s, t, a, b, apples, oranges)"
   ]
  },
  {
   "cell_type": "markdown",
   "metadata": {},
   "source": [
    "### Kangaroo"
   ]
  },
  {
   "cell_type": "code",
   "execution_count": 29,
   "metadata": {},
   "outputs": [
    {
     "data": {
      "text/plain": [
       "'NO'"
      ]
     },
     "execution_count": 29,
     "metadata": {},
     "output_type": "execute_result"
    }
   ],
   "source": [
    "def kangaroo(x1, v1, x2, v2):\n",
    "    if x1 < x2:\n",
    "        if not v1 > v2:\n",
    "            return \"NO\"\n",
    "    if x2 < x1:\n",
    "        if not v2 > v1:\n",
    "            return \"NO\"\n",
    "        \n",
    "    diff_start = abs(x1 - x2)\n",
    "    diff_vel = abs(v1 - v2)\n",
    "    \n",
    "    if diff_start%diff_vel == 0:\n",
    "        return \"YES\"\n",
    "    else:\n",
    "        return \"NO\"\n",
    "    \n",
    "x1, v1, x2, v2 = 0, 2, 5, 3\n",
    "kangaroo(x1, v1, x2, v2)"
   ]
  },
  {
   "cell_type": "markdown",
   "metadata": {},
   "source": [
    "### Find all numbers that are fractor of array2 and its factors are array1\n",
    "\n",
    "You will be given two arrays of integers and asked to determine all integers that satisfy the following two conditions:\n",
    "\n",
    "1. The elements of the first array are all factors of the integer being considered\n",
    "2. The integer being considered is a factor of all elements of the second array\n",
    "\n",
    "These numbers are referred to as being between the two arrays. You must determine how many such numbers exist."
   ]
  },
  {
   "cell_type": "code",
   "execution_count": 55,
   "metadata": {},
   "outputs": [],
   "source": [
    "def getTotalX(a, b):\n",
    "    num_range = [a[len(a)-1], b[0]]\n",
    "    valid_nums = list()\n",
    "    for i in range(num_range[0], num_range[1]+1):\n",
    "        valid_flag = True\n",
    "        for j in a:\n",
    "            if i%j != 0:\n",
    "                valid_flag = False\n",
    "                break\n",
    "        if valid_flag:\n",
    "            for ele_b in b:\n",
    "                if ele_b%i != 0:\n",
    "                    valid_flag = False\n",
    "                    break\n",
    "        if valid_flag:\n",
    "            valid_nums.append(i)\n",
    "#     print(valid_nums)\n",
    "    return len(valid_nums)"
   ]
  },
  {
   "cell_type": "code",
   "execution_count": 56,
   "metadata": {},
   "outputs": [
    {
     "data": {
      "text/plain": [
       "3"
      ]
     },
     "execution_count": 56,
     "metadata": {},
     "output_type": "execute_result"
    }
   ],
   "source": [
    "a = [2, 4]\n",
    "b = [16, 32, 96]\n",
    "getTotalX(a, b)"
   ]
  },
  {
   "cell_type": "markdown",
   "metadata": {},
   "source": [
    "### Compare triplet"
   ]
  },
  {
   "cell_type": "code",
   "execution_count": 69,
   "metadata": {},
   "outputs": [],
   "source": [
    "def compareTriplets(a, b):\n",
    "    alice_pt, bob_pt = 0, 0\n",
    "    for i, j in zip(a,b):\n",
    "        if i > j:\n",
    "            alice_pt += 1\n",
    "        elif i < j:\n",
    "            bob_pt += 1\n",
    "    return [alice_pt, bob_pt]            "
   ]
  },
  {
   "cell_type": "code",
   "execution_count": 70,
   "metadata": {},
   "outputs": [
    {
     "name": "stdout",
     "output_type": "stream",
     "text": [
      "[1, 1]\n"
     ]
    }
   ],
   "source": [
    "a = [5, 6, 7]\n",
    "b = [3, 6, 10]\n",
    "print(compareTriplets(a, b))"
   ]
  },
  {
   "cell_type": "markdown",
   "metadata": {},
   "source": [
    "### Mini-Max Sum"
   ]
  },
  {
   "cell_type": "code",
   "execution_count": 96,
   "metadata": {},
   "outputs": [],
   "source": [
    "# Complete the miniMaxSum function below.\n",
    "def miniMaxSum(arr):    \n",
    "    arr.sort()\n",
    "    print(arr)\n",
    "    min_sum = 0\n",
    "    max_sum = 0\n",
    "    for i in range(len(arr)-1):\n",
    "        min_sum += arr[i]\n",
    "        max_sum += arr[i+1]\n",
    "    print(min_sum)\n",
    "    print(max_sum)"
   ]
  },
  {
   "cell_type": "code",
   "execution_count": 97,
   "metadata": {},
   "outputs": [
    {
     "name": "stdout",
     "output_type": "stream",
     "text": [
      "[2, 3, 4, 5, 6]\n",
      "14\n",
      "18\n"
     ]
    }
   ],
   "source": [
    "arr = [6, 2, 3, 4, 5]\n",
    "miniMaxSum(arr)"
   ]
  },
  {
   "cell_type": "code",
   "execution_count": null,
   "metadata": {},
   "outputs": [],
   "source": []
  }
 ],
 "metadata": {
  "kernelspec": {
   "display_name": "Python 3",
   "language": "python",
   "name": "python3"
  },
  "language_info": {
   "codemirror_mode": {
    "name": "ipython",
    "version": 3
   },
   "file_extension": ".py",
   "mimetype": "text/x-python",
   "name": "python",
   "nbconvert_exporter": "python",
   "pygments_lexer": "ipython3",
   "version": "3.6.8"
  }
 },
 "nbformat": 4,
 "nbformat_minor": 2
}
