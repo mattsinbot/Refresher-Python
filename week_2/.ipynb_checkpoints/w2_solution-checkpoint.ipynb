{
 "cells": [
  {
   "cell_type": "markdown",
   "metadata": {},
   "source": []
  },
  {
   "cell_type": "code",
   "execution_count": 30,
   "metadata": {
    "collapsed": false
   },
   "outputs": [
    {
     "name": "stdout",
     "output_type": "stream",
     "text": [
      "1.1102230246251565e-16\n"
     ]
    }
   ],
   "source": [
    "machine_e = 1\n",
    "while (machine_e+1 != 1):\n",
    "    machine_e = machine_e/2\n",
    "print (machine_e)"
   ]
  },
  {
   "cell_type": "code",
   "execution_count": 3,
   "metadata": {
    "collapsed": false
   },
   "outputs": [
    {
     "name": "stdout",
     "output_type": "stream",
     "text": [
      "Name is Mary and they age 21\n",
      "Name is John and they age 56\n",
      "Name is Sarah and they age 98\n"
     ]
    }
   ],
   "source": [
    "names = [\"Mary\", \"John\", \"Sarah\"]\n",
    "age = [21, 56, 98]\n",
    "\n",
    "for na, ag in zip(names, age):\n",
    "    print ('Name is {} and they age {}'.format(na, ag))"
   ]
  },
  {
   "cell_type": "code",
   "execution_count": 28,
   "metadata": {
    "collapsed": false
   },
   "outputs": [
    {
     "name": "stdout",
     "output_type": "stream",
     "text": [
      "[3, 8, 0, 9, 6, 6, 4, 6, 7]\n",
      "Match Found in the List at location 4\n"
     ]
    }
   ],
   "source": [
    "import random\n",
    "random_list = []\n",
    "\n",
    "for i in range(9):\n",
    "    random_list.append(random.randint(0, 9))\n",
    "print (random_list)\n",
    "\n",
    "match = 0\n",
    "while match != 1:\n",
    "    gen_rand = random.randint(0, 9)    \n",
    "    for i in enumerate(random_list):\n",
    "        if i[0] == gen_rand:\n",
    "            match = 1\n",
    "            print ('Match Found in the List at location {}'.format(i[0]))"
   ]
  },
  {
   "cell_type": "code",
   "execution_count": 7,
   "metadata": {
    "collapsed": false
   },
   "outputs": [
    {
     "name": "stdout",
     "output_type": "stream",
     "text": [
      "[3, 5, 1, 1, 7, 1, 6, 7, 3]\n"
     ]
    }
   ],
   "source": [
    "random_list = []\n",
    "\n",
    "for i in range(9):\n",
    "    random_list.append(random.randint(0, 9))\n",
    "print (random_list)"
   ]
  },
  {
   "cell_type": "code",
   "execution_count": 29,
   "metadata": {
    "collapsed": false
   },
   "outputs": [
    {
     "name": "stdout",
     "output_type": "stream",
     "text": [
      "[1, 1, 2, 3, 5, 8, 13, 21, 34, 55, 89, 144, 233, 377, 610, 987, 1597, 2584, 4181, 6765, 10946, 17711, 28657, 46368, 75025, 121393, 196418]\n"
     ]
    }
   ],
   "source": [
    "fib = [1, 1]\n",
    "# print (fib)\n",
    "\n",
    "for i in range (25):\n",
    "    new = fib[-1] + fib[-2]\n",
    "    fib.append(new)\n",
    "print (fib)"
   ]
  },
  {
   "cell_type": "code",
   "execution_count": 18,
   "metadata": {
    "collapsed": false
   },
   "outputs": [
    {
     "name": "stdout",
     "output_type": "stream",
     "text": [
      "1\n",
      "2\n",
      "3\n",
      "\n",
      "5.\n",
      "6\n",
      "7\n",
      "8\n",
      "9\n",
      "70\n",
      "The list is: ['1', '2', '3', '', '5.', '6', '7', '8', '9', '70']\n"
     ]
    }
   ],
   "source": [
    "n = 0\n",
    "nlist = []\n",
    "while n < 10:\n",
    "    num = input()\n",
    "    nlist.append(num)\n",
    "    n += 1\n",
    "print ('The list is: {}'.format(nlist))"
   ]
  },
  {
   "cell_type": "code",
   "execution_count": null,
   "metadata": {
    "collapsed": true
   },
   "outputs": [],
   "source": []
  }
 ],
 "metadata": {
  "kernelspec": {
   "display_name": "Python 3",
   "language": "python",
   "name": "python3"
  },
  "language_info": {
   "codemirror_mode": {
    "name": "ipython",
    "version": 3
   },
   "file_extension": ".py",
   "mimetype": "text/x-python",
   "name": "python",
   "nbconvert_exporter": "python",
   "pygments_lexer": "ipython3",
   "version": "3.6.0"
  }
 },
 "nbformat": 4,
 "nbformat_minor": 2
}
