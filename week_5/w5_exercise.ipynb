{
 "cells": [
  {
   "cell_type": "markdown",
   "metadata": {},
   "source": [
    "## Exercise 1: Rock-Paper-Scissors\n",
    "\n",
    "Implement a set of games of rock-paper-scissors against the computer.  \n",
    "\n",
    "  * Ask for input from the user (\"rock\", \"paper\", or \"scissors\") and the randomly select one of these for the computer's play.\n",
    "  * Announce who won.\n",
    "  * Keep playing until a player says that they no longer want to play.\n",
    "  * When all games are done, print out how many games were won by the player and by the computer "
   ]
  },
  {
   "cell_type": "code",
   "execution_count": null,
   "metadata": {
    "collapsed": false
   },
   "outputs": [],
   "source": [
    "import random\n",
    "choice = [\"rock\", \"paper\", \"scissors\"]\n",
    "want_play = \"y\"\n",
    "\n",
    "while want_play == \"y\":\n",
    "    player1 = input('Enter choice number [0 1 2]: ')\n",
    "    player1 = int(player1)\n",
    "    player2 = random.randint(0, 2)\n",
    "    if player1 == player2:\n",
    "        print (\"Tie\")\n",
    "    elif player2 == 0 and player1 == 2:\n",
    "        print ('You: {}, Comp: {}'.format(choice[player1], choice[player2]))\n",
    "        print (\"Computer wins!!!!\")\n",
    "    elif player2 == 1 and player1 == 0:\n",
    "        print ('You: {}, Comp: {}'.format(choice[player1], choice[player2]))\n",
    "        print (\"Computer wins!!!!\")\n",
    "    elif player2 == 2 and player1 == 1:\n",
    "        print ('You: {}, Comp: {}'.format(choice[player1], choice[player2]))\n",
    "        print (\"Computer wins!!!!\")\n",
    "    else:\n",
    "        print ('You: {}, Comp: {}'.format(choice[player1], choice[player2]))\n",
    "        print (\"You win!!!!\")\n",
    "        \n",
    "    want_play = input('Want to play: [y/n]: ')\n",
    "    if want_play == \"n\":\n",
    "        break"
   ]
  },
  {
   "cell_type": "markdown",
   "metadata": {},
   "source": [
    "## Exercise 2: Pascal's triangle\n",
    "\n",
    "Pascal's triangle is created such that each layer has 1 more element than the previous, with `1`s on the side and in the interior, the numbers are the sum of the two above it, e.g.,:\n",
    "```\n",
    "            1\n",
    "          1   1\n",
    "        1   2   1\n",
    "      1   3   3   1\n",
    "    1   4   6   4   1\n",
    "  1   5   10  10  5   1\n",
    "```\n",
    "\n",
    "Write a function to return the first `n` rows of Pascal's triangle.  The return should be a list of length `n`, with each element itself a list containing the numbers for that row.\n",
    "\n",
    "<span class=\"fa fa-star\" /> If you want to add complexity, write a function to print out Pascal's triangle with proper formatting, so the numbers in each row are centered between the ones in the row above"
   ]
  },
  {
   "cell_type": "code",
   "execution_count": null,
   "metadata": {
    "collapsed": false
   },
   "outputs": [],
   "source": [
    "pascal_row = 6                 # number of rows in Pascal's triangle\n",
    "pascal_list = [[1]]            # initialize Pascal's list\n",
    "for i in range(1, pascal_row):\n",
    "    line = [0]*(i + 1)\n",
    "    for j in range(i+1):\n",
    "        if j == 0 or j == i:\n",
    "            line[j] = 1\n",
    "        else:\n",
    "            line[j] = pascal_list[i-1][j-1] + pascal_list[i-1][j]\n",
    "    pascal_list.append(line)\n",
    "\n",
    "print (pascal_list)"
   ]
  },
  {
   "cell_type": "markdown",
   "metadata": {},
   "source": [
    "## Exercise 3: Panagrams\n",
    "\n",
    "A _panagram_ is a sentence that includes all 26 letters of the alphabet, e.g., \"_The quick brown fox jumps over the lazy dog_.\"\n",
    "\n",
    "Write a function that takes as an argument a sentence and returns `True` or `False`, indicating whether the sentence is a panagram."
   ]
  },
  {
   "cell_type": "code",
   "execution_count": 3,
   "metadata": {
    "collapsed": false
   },
   "outputs": [
    {
     "name": "stdout",
     "output_type": "stream",
     "text": [
      "<class 'str'>\n",
      "Thequickbrownfoxjumpsoverthelazydog\n",
      "This is a Panagram !\n"
     ]
    }
   ],
   "source": [
    "import string\n",
    "given_str =  \"The quick brown fox jumps over the lazy dog.\"\n",
    "print (type(given_str))\n",
    "new_str = given_str.replace(\".\", \" \").replace(\" \", \"\")\n",
    "print (new_str)\n",
    "\n",
    "counter = 0\n",
    "letter_flag = 'False'\n",
    "for l in string.ascii_lowercase:\n",
    "    for j in new_str:\n",
    "        if j == l:\n",
    "            letter_flag = 'True'\n",
    "            counter += 1\n",
    "    if letter_flag == 'False':\n",
    "        print ('This is not a Panagram !')\n",
    "        break\n",
    "    elif counter == 26:\n",
    "        print ('This is a Panagram !')\n",
    "        break\n",
    "        \n",
    "    letter_flag = 'False'"
   ]
  },
  {
   "cell_type": "markdown",
   "metadata": {},
   "source": [
    "## Exercise 4: Math practice\n",
    "\n",
    "We want to make a simple table of trigonometric functions for different angles.  Write a code that outputs in columns, the following data:\n",
    "```\n",
    "angle (degrees)    angle (radians)     sin(angle)     cos(angle)    sin(angle)**2 + cos(angle)**2\n",
    "```\n",
    "\n",
    "For all angles spaced 30 degrees apart in the range 0 to 360 degrees.\n",
    "\n",
    "Keep in mind that the trig functions expect the input in radians."
   ]
  },
  {
   "cell_type": "code",
   "execution_count": 4,
   "metadata": {
    "collapsed": false
   },
   "outputs": [
    {
     "name": "stdout",
     "output_type": "stream",
     "text": [
      "       0.000000        0.000000        0.000000        0.000000        0.000000\n",
      "      30.000000       30.000000       30.000000       30.000000       30.000000\n",
      "      60.000000       60.000000       60.000000       60.000000       60.000000\n",
      "      90.000000       90.000000       90.000000       90.000000       90.000000\n",
      "     120.000000      120.000000      120.000000      120.000000      120.000000\n",
      "     150.000000      150.000000      150.000000      150.000000      150.000000\n",
      "     180.000000      180.000000      180.000000      180.000000      180.000000\n",
      "     210.000000      210.000000      210.000000      210.000000      210.000000\n",
      "     240.000000      240.000000      240.000000      240.000000      240.000000\n",
      "     270.000000      270.000000      270.000000      270.000000      270.000000\n",
      "     300.000000      300.000000      300.000000      300.000000      300.000000\n",
      "     330.000000      330.000000      330.000000      330.000000      330.000000\n"
     ]
    }
   ],
   "source": [
    "from math import sin, cos, radians\n",
    "\n",
    "for angle in range(0, 360, 30):\n",
    "    rad_angle = radians(angle)\n",
    "    print ('{0:15f} {0:15f} {0:15f} {0:15f} {0:15f}'.format(angle, rad_angle, sin(rad_angle), cos(rad_angle), sin(rad_angle)**2 + cos(rad_angle)**2))"
   ]
  },
  {
   "cell_type": "markdown",
   "metadata": {},
   "source": [
    "## Exercise 5: Calendar events\n",
    "\n",
    "We want to keep a schedule of events.  We will do this by creating a class called `Day`.  It is sketched out below.  A `Day` holds a list of events and has methods that allow you to add an delete events.  Our events will be instances of a class `Event`, which holds the time, location, and description of the event.\n",
    "\n",
    "Finally, we can keep track of a list of all the `Day`s for which we have events to make our schedule.\n",
    "\n",
    "Fill in these classes and write some code to demonstrate their use:\n",
    "\n",
    "  * Create a full week of days in your calendar\n",
    "  * Add an event every day at noon called \"lunch\"\n",
    "  * Randomly add some other events to fill out your calendar\n",
    "  * Write some code that tells you the start time of your first meeting and the end time of your last meeting (this is the length of your work day)"
   ]
  },
  {
   "cell_type": "code",
   "execution_count": null,
   "metadata": {
    "collapsed": true
   },
   "outputs": [],
   "source": [
    "class Day:\n",
    "    \"\"\"a single day keeping track of the events scheduled\"\"\"\n",
    "    def __init__(month, day, year):\n",
    "        # store the month, day, and year as data in the class\n",
    "        \n",
    "        # keep track of the events\n",
    "        self.events = []\n",
    "    \n",
    "    def add_event(name, time=None, location=None):\n",
    "        pass\n",
    "    \n",
    "    def delete_event(name):\n",
    "        pass\n",
    "    \n",
    "    \n",
    "class Event:\n",
    "    \"\"\"a single event in our calendar\"\"\"\n",
    "    def __init__(name, time=9, location=None, duration=1):\n",
    "        self.name = name\n",
    "        self.time = time\n",
    "        self.location = location\n",
    "        self.duration = duration"
   ]
  },
  {
   "cell_type": "code",
   "execution_count": null,
   "metadata": {
    "collapsed": true
   },
   "outputs": [],
   "source": []
  }
 ],
 "metadata": {
  "kernelspec": {
   "display_name": "Python 3",
   "language": "python",
   "name": "python3"
  },
  "language_info": {
   "codemirror_mode": {
    "name": "ipython",
    "version": 3
   },
   "file_extension": ".py",
   "mimetype": "text/x-python",
   "name": "python",
   "nbconvert_exporter": "python",
   "pygments_lexer": "ipython3",
   "version": "3.6.0"
  }
 },
 "nbformat": 4,
 "nbformat_minor": 2
}
