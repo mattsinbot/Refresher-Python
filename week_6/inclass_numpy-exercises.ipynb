{
 "cells": [
  {
   "cell_type": "markdown",
   "metadata": {},
   "source": [
    "# NumPy exercises"
   ]
  },
  {
   "cell_type": "markdown",
   "metadata": {},
   "source": [
    "Some  of these come from / are inspired from https://github.com/rougier/numpy-100 and http://www.scipy-lectures.org/intro/numpy/exercises.html\n",
    "\n",
    "You might want to look over these lists as well."
   ]
  },
  {
   "cell_type": "code",
   "execution_count": 2,
   "metadata": {
    "collapsed": true
   },
   "outputs": [],
   "source": [
    "import numpy as np"
   ]
  },
  {
   "cell_type": "markdown",
   "metadata": {},
   "source": [
    "## Q1\n",
    "\n",
    "We can use `np.random.random_sample()` to create an array with random values.  By default, these will be in the range `[0.0, 1.0)`.  You can\n",
    "multiple the output and add a scalar to it to get it to be in a different range.\n",
    "\n",
    "Create a 10 x 10 array initialized with random numbers that lie between 0 and 10.\n",
    "\n",
    "Then compute the average of the array (there is a numpy function for this, `np.mean()`)."
   ]
  },
  {
   "cell_type": "code",
   "execution_count": 3,
   "metadata": {
    "collapsed": false
   },
   "outputs": [
    {
     "name": "stdout",
     "output_type": "stream",
     "text": [
      "Mean of array elements: 4.974067475232309\n"
     ]
    }
   ],
   "source": [
    "rand_array = np.random.random_sample((10, 10))\n",
    "rand_range = 10*rand_array + 0        # random array of elements between 0  and 10\n",
    "array_mean = np.mean(rand_range)\n",
    "print ('Mean of array elements: {}'.format(array_mean))"
   ]
  },
  {
   "cell_type": "markdown",
   "metadata": {},
   "source": [
    "## Q2\n",
    "\n",
    "Create the array: \n",
    "```\n",
    "[[1,  6, 11],\n",
    " [2,  7, 12],\n",
    " [3,  8, 13],\n",
    " [4,  9, 14],\n",
    " [5, 10, 15]]\n",
    "```\n",
    "with out explicitly typing it in.\n",
    "\n",
    "Now create a new array containing only its 2nd and 4th rows."
   ]
  },
  {
   "cell_type": "code",
   "execution_count": 4,
   "metadata": {
    "collapsed": false
   },
   "outputs": [
    {
     "name": "stdout",
     "output_type": "stream",
     "text": [
      "[[ 2  7 12]\n",
      " [ 4  9 14]]\n"
     ]
    }
   ],
   "source": [
    "nrows = 5\n",
    "ncols = 3\n",
    "old_array = np.arange(1, 16, 1).reshape(ncols, nrows)\n",
    "modified_array = old_array.T\n",
    "new_array = modified_array[1:4:2, :]\n",
    "print (new_array)"
   ]
  },
  {
   "cell_type": "markdown",
   "metadata": {},
   "source": [
    "## Q3\n",
    "\n",
    "Create a 2d array with `1` on the border and `0` on the inside, e.g., like:\n",
    "```\n",
    "1 1 1 1 1\n",
    "1 0 0 0 1\n",
    "1 0 0 0 1\n",
    "1 1 1 1 1\n",
    "```\n",
    "\n",
    "Do this using array slice notation to let it work for an arbitrary-sized array"
   ]
  },
  {
   "cell_type": "code",
   "execution_count": 5,
   "metadata": {
    "collapsed": false
   },
   "outputs": [
    {
     "name": "stdout",
     "output_type": "stream",
     "text": [
      "[[ 1.  1.  1.  1.  1.]\n",
      " [ 1.  0.  0.  0.  1.]\n",
      " [ 1.  0.  0.  0.  1.]\n",
      " [ 1.  1.  1.  1.  1.]]\n"
     ]
    }
   ],
   "source": [
    "nrows = 4\n",
    "ncols = 5\n",
    "array_1 = np.ones((nrows, ncols))\n",
    "array_2 = array_1\n",
    "array_2[1:nrows-1, 1:ncols-1] = 0\n",
    "print (array_2)"
   ]
  },
  {
   "cell_type": "markdown",
   "metadata": {},
   "source": [
    "## Q4\n",
    "\n",
    "  * Create an array with angles in degrees 0, 15, 30, ... 90 (i.e., every 15 degrees up to 90).\n",
    "\n",
    "  * Now create 3 new arrays with the sine, cosine, and tangent of the elements of the first array\n",
    "  \n",
    "  * Finally, calculate the inverse sine, inverse cosine, and inverse tangent the arrays above and compare to the original angles"
   ]
  },
  {
   "cell_type": "code",
   "execution_count": 6,
   "metadata": {
    "collapsed": false
   },
   "outputs": [
    {
     "name": "stdout",
     "output_type": "stream",
     "text": [
      "[  0.  15.  30.  45.  60.  75.  90.]\n"
     ]
    }
   ],
   "source": [
    "stride_val = 15\n",
    "ang_array = np.arange(0, 90+stride_val, stride_val)\n",
    "ang_array2 = (np.pi/180)*ang_array\n",
    "sine_array = np.sin(ang_array2)\n",
    "cosine_array = np.sin(ang_array2)\n",
    "tangent_array = np.tan(ang_array2)\n",
    "# Compute inverses\n",
    "asin_array = np.arcsin(sine_array)\n",
    "acos_array = np.arccos(cosine_array)\n",
    "atan_array = np.arctan(tangent_array)\n",
    "\n",
    "asin_array *= (180/np.pi)\n",
    "acos_array *= (180/np.pi)\n",
    "atan_array *= (180/np.pi)\n",
    "\n",
    "print (atan_array)"
   ]
  },
  {
   "cell_type": "markdown",
   "metadata": {},
   "source": [
    "## Q5\n",
    "\n",
    "Given the array:\n",
    "```\n",
    "x = np.array([1, -1, 2, 5, 8, 4, 10, 12, 3])\n",
    "```\n",
    "calculate the difference of each element with its neighbor."
   ]
  },
  {
   "cell_type": "code",
   "execution_count": 7,
   "metadata": {
    "collapsed": false
   },
   "outputs": [
    {
     "name": "stdout",
     "output_type": "stream",
     "text": [
      "[-2  3  3  3 -4  6  2 -9]\n"
     ]
    }
   ],
   "source": [
    "x = np.array([1, -1, 2, 5, 8, 4, 10, 12, 3])\n",
    "dx = np.diff(x)\n",
    "print (dx)"
   ]
  },
  {
   "cell_type": "markdown",
   "metadata": {},
   "source": [
    "## Q6\n",
    "\n",
    "Here we will read in columns of numbers from a file and create a histogram, using NumPy routines.  Make sure you have the data file\n",
    "\"`sample.txt`\" in the same directory as this notebook (you can download it from  https://raw.githubusercontent.com/sbu-python-summer/python-tutorial/master/day-3/sample.txt\n",
    "\n",
    "  * Use `np.loadtxt()` to read this file in.  \n",
    "\n",
    "  * Next, use `np.histogram()` to create a histogram array.  The output returns both the count and an array of edges.\n",
    "  \n",
    "  * Finally, loop over the bins and print out the bin center (averaging the left and right edges of the bin) and the count for that bin."
   ]
  },
  {
   "cell_type": "code",
   "execution_count": 11,
   "metadata": {
    "collapsed": false
   },
   "outputs": [
    {
     "name": "stdout",
     "output_type": "stream",
     "text": [
      "Center of bins: [-24.10900649 -11.1501637    1.80867908  14.76752187  27.72636466\n",
      "  40.68520745  53.64405024  66.60289303  79.56173582  92.52057861]\n",
      "Counts of each bin: [ 6 23 52 37 16 14 13 13 13 13]\n"
     ]
    }
   ],
   "source": [
    "read_data = np.loadtxt('sample.txt')\n",
    "count, edges = np.histogram(read_data)\n",
    "centers = np.mean(np.stack((edges[:-1] , edges[1:])), axis = 0)\n",
    "print ('Center of bins: {}'.format(centers))\n",
    "print ('Counts of each bin: {}'.format(count))"
   ]
  },
  {
   "cell_type": "markdown",
   "metadata": {},
   "source": [
    "## Q7\n",
    "\n",
    "NumPy has a standard deviation function, `np.std()`, but here we'll write our own that works on a 1-d array (vector).  The standard\n",
    "deviation is a measure of the \"width\" of the distribution of numbers\n",
    "in the vector.\n",
    "\n",
    "Given an array, $a$, and an average $\\bar{a}$, the standard deviation\n",
    "is:\n",
    "$$\n",
    "\\sigma = \\left [ \\frac{1}{N} \\sum_{i=1}^N (a_i - \\bar{a})^2 \\right ]^{1/2}\n",
    "$$\n",
    "\n",
    "Write a function to calculate the standard deviation for an input array, `a`:\n",
    "\n",
    "  * First compute the average of the elements in `a` to define $\\bar{a}$\n",
    "  * Next compute the sum over the squares of $a - \\bar{a}$\n",
    "  * Then divide the sum by the number of elements in the array\n",
    "  * Finally take the square root (you can use `np.sqrt()`)\n",
    "  \n",
    "Test your function on a random array, and compare to the built-in `np.std()`"
   ]
  },
  {
   "cell_type": "code",
   "execution_count": 10,
   "metadata": {
    "collapsed": false
   },
   "outputs": [
    {
     "name": "stdout",
     "output_type": "stream",
     "text": [
      "Programmed STD: 0.2721746538717936\n",
      "Numpy STD : 0.2721746538717936\n"
     ]
    }
   ],
   "source": [
    "cc = np.random.random_sample((1, 10))\n",
    "mean_cc = np.mean(cc)\n",
    "sqr_dev = (cc - mean_cc)**2\n",
    "avg_dev = np.sum(sqr_dev)/np.shape(cc)[1]\n",
    "cc_std = np.sqrt(avg_dev)\n",
    "py_std = np.std(cc)\n",
    "\n",
    "print ('Programmed STD: {}'.format(cc_std))\n",
    "print ('Numpy STD : {}'.format(py_std))"
   ]
  },
  {
   "cell_type": "code",
   "execution_count": null,
   "metadata": {
    "collapsed": true
   },
   "outputs": [],
   "source": []
  }
 ],
 "metadata": {
  "kernelspec": {
   "display_name": "Python 3",
   "language": "python",
   "name": "python3"
  },
  "language_info": {
   "codemirror_mode": {
    "name": "ipython",
    "version": 3
   },
   "file_extension": ".py",
   "mimetype": "text/x-python",
   "name": "python",
   "nbconvert_exporter": "python",
   "pygments_lexer": "ipython3",
   "version": "3.6.0"
  }
 },
 "nbformat": 4,
 "nbformat_minor": 2
}
