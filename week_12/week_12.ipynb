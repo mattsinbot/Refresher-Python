{
 "cells": [
  {
   "cell_type": "markdown",
   "metadata": {},
   "source": [
    "1. Use setup.py while you are writing a package. User runs that file to install required files and adds right path\n",
    "\n",
    "2. Please gothrough the .pdf file in this address http://bender.astro.sunysb.edu/classes/python-science/lectures/packaging.pdf .\n",
    "\n",
    "3. Try to understand "
   ]
  },
  {
   "cell_type": "markdown",
   "metadata": {},
   "source": [
    "Please gothrough the .pdf file in this address http://bender.astro.sunysb.edu/classes/python-science/lectures/packaging.pdf ."
   ]
  },
  {
   "cell_type": "code",
   "execution_count": null,
   "metadata": {
    "collapsed": true
   },
   "outputs": [],
   "source": []
  }
 ],
 "metadata": {
  "kernelspec": {
   "display_name": "Python 3",
   "language": "python",
   "name": "python3"
  },
  "language_info": {
   "codemirror_mode": {
    "name": "ipython",
    "version": 3
   },
   "file_extension": ".py",
   "mimetype": "text/x-python",
   "name": "python",
   "nbconvert_exporter": "python",
   "pygments_lexer": "ipython3",
   "version": "3.6.4"
  }
 },
 "nbformat": 4,
 "nbformat_minor": 2
}
