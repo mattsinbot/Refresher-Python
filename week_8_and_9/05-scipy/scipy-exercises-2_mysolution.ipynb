{
 "cells": [
  {
   "cell_type": "code",
   "execution_count": 2,
   "metadata": {
    "collapsed": true
   },
   "outputs": [],
   "source": [
    "import numpy as np\n",
    "from scipy.linalg import lstsq\n",
    "%matplotlib inline\n",
    "import matplotlib.pyplot as plt\n",
    "import random"
   ]
  },
  {
   "cell_type": "markdown",
   "metadata": {},
   "source": [
    "# Linear Algebra"
   ]
  },
  {
   "cell_type": "markdown",
   "metadata": {},
   "source": [
    "## Q1: Condition number\n",
    "\n",
    "For a linear system, ${\\bf A x} = {\\bf b}$, we can only solve for $x$ if the determinant of the matrix ${\\bf A}$ is non-zero.  If the determinant is zero, then we call the matrix _singular_.  The _condition number_ of a matrix is a measure of how close we are to being singular.  The formal definition is:\n",
    "\\begin{equation}\n",
    "\\mathrm{cond}({\\bf A}) = \\| {\\bf A}\\| \\| {\\bf A}^{-1} \\|\n",
    "\\end{equation}\n",
    "But we can think of it as a measure of how much ${\\bf x}$ would change due to a small change in ${\\bf b}$.  A large condition number means that our solution for ${\\bf x}$ could be inaccurate.\n",
    "\n",
    "A _Hilbert matrix_ has $H_{ij} = (i + j + 1)^{-1}$, and is known to have a large condition number.  Here's a routine to generate a Hilbert matrix"
   ]
  },
  {
   "cell_type": "code",
   "execution_count": 3,
   "metadata": {
    "collapsed": true
   },
   "outputs": [],
   "source": [
    "def hilbert(n):\n",
    "    \"\"\" return a Hilbert matrix, H_ij = (i + j - 1)^{-1} \"\"\"\n",
    "\n",
    "    H = np.zeros((n,n), dtype=np.float64)\n",
    "\n",
    "    for i in range(1, n+1):\n",
    "        for j in range(1, n+1):\n",
    "            H[i-1,j-1] = 1.0/(i + j - 1.0)\n",
    "    return H"
   ]
  },
  {
   "cell_type": "markdown",
   "metadata": {
    "collapsed": true
   },
   "source": [
    "Let's solve ${\\bf Hx} ={\\bf b}$.  Create a linear system by picking an ${\\bf x}$ and generating a ${\\bf b}$ by multiplying by the matrix ${\\bf H}$.  Then use the `scipy.linalg.solve()` function to recover ${\\bf x}$.  Compute the error in ${\\bf x}$ as a function of the size of the matrix.\n",
    "\n",
    "You won't need a large matrix, $n \\sim 13$ or so, will start showing big errors.\n",
    "\n",
    "You can compute the condition number with `numpy.linalg.cond()`\n",
    "\n",
    "There are methods that can do a better job with nearly-singular matricies.  Take a look at `scipy.linalg.lstsq()` for example."
   ]
  },
  {
   "cell_type": "code",
   "execution_count": 25,
   "metadata": {
    "collapsed": false
   },
   "outputs": [
    {
     "name": "stdout",
     "output_type": "stream",
     "text": [
      "Actual x:\n",
      " [95 27]\n",
      "\n",
      "Solved x:\n",
      " [ 95.  27.]\n",
      "\n",
      "Condition number:\n",
      " 19.28147006790397\n",
      "\n",
      "Solved x (using scipy.linalg.lstsq()):\n",
      " [ 95.  27.]\n",
      "\n",
      "===============================================================\n",
      "\n",
      "Actual x:\n",
      " [ 5 44 66]\n",
      "\n",
      "Solved x:\n",
      " [  5.  44.  66.]\n",
      "\n",
      "Condition number:\n",
      " 524.0567775860644\n",
      "\n",
      "Solved x (using scipy.linalg.lstsq()):\n",
      " [  5.  44.  66.]\n",
      "\n",
      "===============================================================\n",
      "\n",
      "Actual x:\n",
      " [92 31 29 66]\n",
      "\n",
      "Solved x:\n",
      " [ 92.  31.  29.  66.]\n",
      "\n",
      "Condition number:\n",
      " 15513.738738928929\n",
      "\n",
      "Solved x (using scipy.linalg.lstsq()):\n",
      " [ 92.  31.  29.  66.]\n",
      "\n",
      "===============================================================\n",
      "\n",
      "Actual x:\n",
      " [42 81 90 96 18]\n",
      "\n",
      "Solved x:\n",
      " [ 42.  81.  90.  96.  18.]\n",
      "\n",
      "Condition number:\n",
      " 476607.25024224253\n",
      "\n",
      "Solved x (using scipy.linalg.lstsq()):\n",
      " [ 42.  81.  90.  96.  18.]\n",
      "\n",
      "===============================================================\n",
      "\n",
      "Actual x:\n",
      " [57 55 71 31 99 90]\n",
      "\n",
      "Solved x:\n",
      " [ 57.  55.  71.  31.  99.  90.]\n",
      "\n",
      "Condition number:\n",
      " 14951058.64125091\n",
      "\n",
      "Solved x (using scipy.linalg.lstsq()):\n",
      " [ 57.          55.          71.00000001  30.99999997  99.00000004\n",
      "  89.99999999]\n",
      "\n",
      "===============================================================\n",
      "\n",
      "Actual x:\n",
      " [91 49 44 92 83 59  8]\n",
      "\n",
      "Solved x:\n",
      " [ 91.          48.99999999  44.00000011  91.99999956  83.0000008\n",
      "  58.9999993    8.00000023]\n",
      "\n",
      "Condition number:\n",
      " 475367356.37688667\n",
      "\n",
      "Solved x (using scipy.linalg.lstsq()):\n",
      " [ 91.          48.99999999  44.00000005  91.99999982  83.00000033\n",
      "  58.99999972   8.00000009]\n",
      "\n",
      "===============================================================\n",
      "\n",
      "Actual x:\n",
      " [32  7 37 97 89  4 94 69]\n",
      "\n",
      "Solved x:\n",
      " [ 32.           6.99999994  37.00000074  96.99999601  89.00001064\n",
      "   3.99998505  94.00001057  68.99999703]\n",
      "\n",
      "Condition number:\n",
      " 15257575516.147259\n",
      "\n",
      "Solved x (using scipy.linalg.lstsq()):\n",
      " [ 32.           6.9999999   37.00000126  96.99999316  89.00001845\n",
      "   3.99997387  94.00001861  68.99999475]\n",
      "\n",
      "===============================================================\n",
      "\n",
      "Actual x:\n",
      " [34 60 46 49 11 63 89 71 58]\n",
      "\n",
      "Solved x:\n",
      " [ 34.00000002  59.99999896  46.00001723  48.99987895  11.00043836\n",
      "  62.99911423  89.0010085   70.99939528  58.00014848]\n",
      "\n",
      "Condition number:\n",
      " 493153946259.8371\n",
      "\n",
      "Solved x (using scipy.linalg.lstsq()):\n",
      " [ 34.          60.00000007  45.99999858  49.00001174  10.99995238\n",
      "  63.00010481  88.99987239  71.00008077  57.99997926]\n",
      "\n",
      "===============================================================\n",
      "\n",
      "Actual x:\n",
      " [52 42 96 78 75 88 45 24 97 38]\n",
      "\n",
      "Solved x:\n",
      " [ 52.00000002  41.99999815  96.00003556  77.99970442  75.0013024\n",
      "  87.99666475  45.00513312  23.99531948  97.00233008  37.999512  ]\n",
      "\n",
      "Condition number:\n",
      " 16024851066346.184\n",
      "\n",
      "Solved x (using scipy.linalg.lstsq()):\n",
      " [ 52.00000002  41.99999885  96.00002098  77.99983495  75.00068831\n",
      "  87.99833198  45.00242843  23.99790659  97.00098451  37.9998054 ]\n",
      "\n",
      "===============================================================\n",
      "\n",
      "Actual x:\n",
      " [42 22 63 84  9 59 24 35 81 64 11]\n",
      "\n",
      "Solved x:\n",
      " [ 41.99999958  22.00004433  62.99883479  84.01317436   8.9207546\n",
      "  59.2809525   23.38379392  35.84547367  80.29370295  64.32844522\n",
      "  10.93482376]\n",
      "\n",
      "Condition number:\n",
      " 522103489302047.06\n",
      "\n",
      "Solved x (using scipy.linalg.lstsq()):\n",
      " [ 42.00000081  21.99991608  63.00216245  83.97597355   9.1423214\n",
      "  58.50219941  25.07881704  33.53548629  82.21182562  63.44128176\n",
      "  11.11001603]\n",
      "\n",
      "===============================================================\n",
      "\n",
      "Actual x:\n",
      " [41 55 89 80 70 37 64 32 39 38 28 29]\n",
      "\n",
      "Solved x:\n",
      " [ 41.00000117  54.99985255  89.00460589  79.93759575  70.45530377\n",
      "  35.00772548  69.5309257   22.02048502  50.66598276  29.4783406\n",
      "  31.53465623  28.36452435]\n",
      "\n",
      "Condition number:\n",
      " 1.680350541702618e+16\n",
      "\n",
      "Solved x (using scipy.linalg.lstsq()):\n",
      " [ 40.99999884  55.00013031  88.9962935   80.0462482   69.68641619\n",
      "  38.28473023  60.63970945  37.74244917  32.61320225  42.45617606\n",
      "  26.22846762  29.30617828]\n",
      "\n",
      "===============================================================\n",
      "\n",
      "Actual x:\n",
      " [73 97 25 71 52 96  1 18 79 72 85 36 76]\n",
      "\n",
      "Solved x:\n",
      " [  73.0000042    96.99928723   25.02906591   70.49492978   56.69100712\n",
      "   69.84840725   94.33362441 -202.61333511  428.25306869 -294.18541781\n",
      "  328.94267842  -57.48149769   91.6881839 ]\n",
      "\n",
      "Condition number:\n",
      " 8.33203539579772e+17\n",
      "\n",
      "Solved x (using scipy.linalg.lstsq()):\n",
      " [ 73.00000047  96.99995357  25.00102939  70.99245847  52.0001981\n",
      "  96.29349679  -0.86825124  23.96903351  67.54131553  85.76546732\n",
      "  74.8457074   40.21335915  75.24623099]\n",
      "\n",
      "===============================================================\n",
      "\n",
      "Actual x:\n",
      " [37 89 20 18 90 58 75 81 54 16 11 39  3 96]\n",
      "\n",
      "Solved x:\n",
      " [   37.00005656    88.99237648    20.24877936    14.61750931   113.01485183\n",
      "   -21.26123208   159.9914437    449.19812796 -1712.22790462  3650.0564585\n",
      " -4333.44452788  3152.59962175 -1241.95501199   310.16951134]\n",
      "\n",
      "Condition number:\n",
      " 6.111551402921044e+17\n",
      "\n",
      "Solved x (using scipy.linalg.lstsq()):\n",
      " [ 37.00000027  88.99999038  19.99958052  18.01537553  89.8173719\n",
      "  59.09587275  71.25978013  88.31824816  47.09756121  14.63643953\n",
      "  22.26712324  26.39279666   9.37931276  94.72054594]\n",
      "\n",
      "===============================================================\n",
      "\n",
      "[7.1054273576010019e-15, 4.7669951521014318e-13, 6.2371082450294033e-11, 9.4632589328883647e-12, 4.799377645319301e-09, 1.1782650329480825e-06, 2.1766097067740406e-05, 0.0015480615663203898, 0.0081751047598604444, 1.3382467828524787, 18.867265034332043, 618.58708557950547, 6829.3503873244508]\n"
     ]
    },
    {
     "data": {
      "text/plain": [
       "<matplotlib.text.Text at 0x9366c88>"
      ]
     },
     "execution_count": 25,
     "metadata": {},
     "output_type": "execute_result"
    },
    {
     "data": {
      "image/png": "[encoded data removed]",
      "text/plain": [
       "<matplotlib.figure.Figure at 0x47e39e8>"
      ]
     },
     "metadata": {},
     "output_type": "display_data"
    }
   ],
   "source": [
    "# Try 15 sizes of Hilbert matrix\n",
    "x_err = []\n",
    "for i in range(2, 15):\n",
    "    H = hilbert(i)\n",
    "    x_gen = np.array(random.sample(range(1, 100), i))\n",
    "    print ('Actual x:\\n {}\\n'.format(x_gen))\n",
    "\n",
    "    b = np.dot(H, x_gen)\n",
    "    x_cmp = np.linalg.solve(H, b)\n",
    "    print ('Solved x:\\n {}\\n'.format(x_cmp))\n",
    "\n",
    "    # Find condition number of Hilbert matrix\n",
    "    print ('Condition number:\\n {}\\n'.format(np.linalg.cond(H)))\n",
    "\n",
    "    # Find x using scipy.linalg.lstsq()\n",
    "    x_cmp2, res, rnk, s = lstsq(H, b)\n",
    "    print ('Solved x (using scipy.linalg.lstsq()):\\n {}\\n'.format(x_cmp2))\n",
    "    print ('===============================================================\\n')\n",
    "\n",
    "    # Find Error between actual and computed solution\n",
    "    x_err.append(np.linalg.norm(x_gen - x_cmp))\n",
    "    \n",
    "print (x_err)\n",
    "plt.plot(np.arange(2, 15), x_err)\n",
    "plt.scatter(np.arange(2, 15), x_err)\n",
    "plt.xlabel('Hilbert Matrix Size')\n",
    "plt.ylabel('Normalized error')"
   ]
  },
  {
   "cell_type": "markdown",
   "metadata": {},
   "source": [
    "# FFTs"
   ]
  },
  {
   "cell_type": "markdown",
   "metadata": {},
   "source": [
    "## Q2: Noisy signal"
   ]
  },
  {
   "cell_type": "markdown",
   "metadata": {},
   "source": [
    "A convolution is defined as:                                                             \n",
    "  \\begin{equation}                                                                           \n",
    "    (f \\star g)(t) \\equiv \\int_{-\\infty}^{\\infty} f(\\tau) g(t - \\tau) d\\tau                   \n",
    "  \\end{equation}                                                                             \n",
    "  It is easy to compute this with FFTs, via the {\\em convolution theorem},                                                                        \n",
    "  \\begin{equation}                                                                                                                                                  \n",
    "    \\mathcal{F}\\{f \\star g\\} = \\mathcal{F}\\{f\\} \\, \\mathcal{F}\\{g\\}                                                                                                 \n",
    "  \\end{equation}                                                                                                                                                    \n",
    "  That is the Fourier transform of the convolution of $f$ and $g$ is simply\n",
    "  the product of the individual transforms of $f$ and $g$.  This allows us\n",
    "  to compute the convolution via multiplication in Fourier space and then take\n",
    "  the inverse transform, $\\mathcal{F}^{-1}\\{\\}$, to recover the convolution                   in real space:                                                                             \n",
    "  \\begin{equation}                                                                               f \\star g = \\mathcal{F}^{-1}\\{ \\mathcal{F}\\{f\\} \\, \\mathcal{F}\\{g\\}\\}                     \\end{equation}            \n",
    "  \n",
    "A common use of a convolution is to smooth noisy data, for example by convolving noisy data with a Gaussian.  We'll do that here."
   ]
  },
  {
   "cell_type": "markdown",
   "metadata": {},
   "source": [
    "Here's some noisy data we'll work with"
   ]
  },
  {
   "cell_type": "code",
   "execution_count": 41,
   "metadata": {
    "collapsed": true
   },
   "outputs": [],
   "source": [
    "def fdata(x, L):\n",
    "    A = L/10.0\n",
    "    return 2*np.sin(2*np.pi*x/L) + x*(L-x)**2/L**3 * np.cos(x) + \\\n",
    "           5*x*(L-x)/L**2 + A/2 + 0.1*A*np.sin(13*np.pi*x/L)\n",
    "\n",
    "N = 2048\n",
    "L = 50.0\n",
    "x = np.linspace(0, L, N, endpoint=False)\n",
    "orig = fdata(x, L)\n",
    "noisy = orig + 0.5*np.random.randn(N)"
   ]
  },
  {
   "cell_type": "code",
   "execution_count": 39,
   "metadata": {
    "collapsed": false
   },
   "outputs": [
    {
     "data": {
      "text/plain": [
       "[<matplotlib.lines.Line2D at 0xbcd75f8>]"
      ]
     },
     "execution_count": 39,
     "metadata": {},
     "output_type": "execute_result"
    },
    {
     "data": {
      "image/png": "[encoded data removed]",
      "text/plain": [
       "<matplotlib.figure.Figure at 0xbcd7240>"
      ]
     },
     "metadata": {},
     "output_type": "display_data"
    }
   ],
   "source": [
    "plt.plot(x, noisy)\n",
    "plt.plot(x, orig)"
   ]
  },
  {
   "cell_type": "markdown",
   "metadata": {},
   "source": [
    "SciPy provides a convolution function `scipy.signal.convolve()` that can do the convolution for us directly.  To smooth the data, we want to use a Gaussian, which can be produced by `scipy.signal.gaussian()`.\n",
    "\n",
    "Convolve the noisy data with a Gaussian and plot the result together with the original data `orig`.  You'll need to play with the width of the Gaussian to get a nice smoothing.  You also will need to normalize the Gaussian so that it sums to 1, otherwise, your convolved data will be shifted verfically from the original function."
   ]
  },
  {
   "cell_type": "code",
   "execution_count": 43,
   "metadata": {
    "collapsed": false
   },
   "outputs": [
    {
     "data": {
      "text/plain": [
       "<matplotlib.legend.Legend at 0xc06df60>"
      ]
     },
     "execution_count": 43,
     "metadata": {},
     "output_type": "execute_result"
    },
    {
     "data": {
      "image/png": "[encoded data removed]",
      "text/plain": [
       "<matplotlib.figure.Figure at 0xc002160>"
      ]
     },
     "metadata": {},
     "output_type": "display_data"
    }
   ],
   "source": [
    "from scipy import signal\n",
    "win = signal.gaussian(51, std=10)\n",
    "filtered = signal.convolve(noisy, win, mode='same') / sum(win)\n",
    "plt.plot(x, noisy,'g', label = 'Noisy Signal')\n",
    "plt.plot(x, filtered, 'r-', label = 'Recovered Signal')\n",
    "plt.plot(x, orig, 'b', label = 'Original Signal')\n",
    "plt.legend()"
   ]
  },
  {
   "cell_type": "markdown",
   "metadata": {},
   "source": [
    "## <span class=\"fa fa-star\"></span> Q3: FFT of chaotic pendulum\n",
    "\n",
    "Last time we looked at ODEs and the chaotic pendulum, and were interested in writing a method to integrate the pendulum in time.\n",
    "\n",
    "Here we want to examine its behavior in frequency space.  The code below will integrate the chaotic pendulum, while requesting that the solution be stored at points spaced with a fixed dt, which makes it suitable for taking the FFT."
   ]
  },
  {
   "cell_type": "code",
   "execution_count": 7,
   "metadata": {
    "collapsed": false
   },
   "outputs": [
    {
     "ename": "ImportError",
     "evalue": "cannot import name 'solve_ivp'",
     "output_type": "error",
     "traceback": [
      "\u001b[0;31m---------------------------------------------------------------------------\u001b[0m",
      "\u001b[0;31mImportError\u001b[0m                               Traceback (most recent call last)",
      "\u001b[0;32m<ipython-input-7-beee81e8f982>\u001b[0m in \u001b[0;36m<module>\u001b[0;34m()\u001b[0m\n\u001b[1;32m      1\u001b[0m \u001b[1;32mfrom\u001b[0m \u001b[0mfunctools\u001b[0m \u001b[1;32mimport\u001b[0m \u001b[0mpartial\u001b[0m\u001b[1;33m\u001b[0m\u001b[0m\n\u001b[0;32m----> 2\u001b[0;31m \u001b[1;32mfrom\u001b[0m \u001b[0mscipy\u001b[0m\u001b[1;33m.\u001b[0m\u001b[0mintegrate\u001b[0m \u001b[1;32mimport\u001b[0m \u001b[0msolve_ivp\u001b[0m\u001b[1;33m\u001b[0m\u001b[0m\n\u001b[0m\u001b[1;32m      3\u001b[0m \u001b[1;33m\u001b[0m\u001b[0m\n\u001b[1;32m      4\u001b[0m \u001b[1;32mdef\u001b[0m \u001b[0mrhs\u001b[0m\u001b[1;33m(\u001b[0m\u001b[0mt\u001b[0m\u001b[1;33m,\u001b[0m \u001b[0mY\u001b[0m\u001b[1;33m,\u001b[0m \u001b[0mq\u001b[0m\u001b[1;33m,\u001b[0m \u001b[0momega_d\u001b[0m\u001b[1;33m,\u001b[0m \u001b[0mb\u001b[0m\u001b[1;33m)\u001b[0m\u001b[1;33m:\u001b[0m\u001b[1;33m\u001b[0m\u001b[0m\n\u001b[1;32m      5\u001b[0m     \"\"\" damped driven pendulum system derivatives.  Here, Y = (theta, omega) are\n",
      "\u001b[0;31mImportError\u001b[0m: cannot import name 'solve_ivp'"
     ]
    }
   ],
   "source": [
    "from functools import partial\n",
    "from scipy.integrate import solve_ivp\n",
    "\n",
    "def rhs(t, Y, q, omega_d, b):\n",
    "    \"\"\" damped driven pendulum system derivatives.  Here, Y = (theta, omega) are\n",
    "        the solution variables. \"\"\"\n",
    "    f = np.zeros_like(Y)\n",
    "        \n",
    "    f[0] = Y[1]\n",
    "    f[1] = -q*Y[1] - np.sin(Y[0]) + b*np.cos(omega_d*t)\n",
    "\n",
    "    return f\n",
    "\n",
    "def restrict_theta(theta):\n",
    "    \"\"\" convert theta to be restricted to lie between -pi and pi\"\"\"\n",
    "    tnew = theta + np.pi\n",
    "    tnew += -2.0*np.pi*np.floor(tnew/(2.0*np.pi))\n",
    "    tnew -= np.pi\n",
    "    return tnew\n",
    "\n",
    "def int_pendulum(theta0, q, omega_d, b, tend, dt):\n",
    "    \"\"\" integrate the pendulum and return solution with dt\"\"\"\n",
    "\n",
    "    # points in time where we'll request the solution\n",
    "    tpoints = np.arange(0.0, tend, dt)\n",
    "    \n",
    "    r = solve_ivp(partial(rhs, q=q, omega_d=omega_d, b=b),\n",
    "                  [0.0, tend], [theta0, 0.0],\n",
    "                  method='RK45', t_eval=tpoints)\n",
    "\n",
    "    return r.t, r.y"
   ]
  },
  {
   "cell_type": "markdown",
   "metadata": {},
   "source": [
    "The call below will give an undamped pendulum.  For a small amplitude, since we have $L = g$ in our pendulum, the period is simply $T = 2\\pi$, and the frequency is $\\nu_k = 1/(2\\pi)$.  We plot things in terms of angular frequency, $\\omega_k = 2\\pi \\nu_k$, so all the power will be at $\\omega_k = 1$."
   ]
  },
  {
   "cell_type": "code",
   "execution_count": 8,
   "metadata": {
    "collapsed": false
   },
   "outputs": [
    {
     "ename": "NameError",
     "evalue": "name 'int_pendulum' is not defined",
     "output_type": "error",
     "traceback": [
      "\u001b[0;31m---------------------------------------------------------------------------\u001b[0m",
      "\u001b[0;31mNameError\u001b[0m                                 Traceback (most recent call last)",
      "\u001b[0;32m<ipython-input-8-60901a275979>\u001b[0m in \u001b[0;36m<module>\u001b[0;34m()\u001b[0m\n\u001b[0;32m----> 1\u001b[0;31m \u001b[0mt\u001b[0m\u001b[1;33m,\u001b[0m \u001b[0my\u001b[0m \u001b[1;33m=\u001b[0m \u001b[0mint_pendulum\u001b[0m\u001b[1;33m(\u001b[0m\u001b[0mnp\u001b[0m\u001b[1;33m.\u001b[0m\u001b[0mradians\u001b[0m\u001b[1;33m(\u001b[0m\u001b[1;36m10\u001b[0m\u001b[1;33m)\u001b[0m\u001b[1;33m,\u001b[0m \u001b[1;36m0.0\u001b[0m\u001b[1;33m,\u001b[0m \u001b[1;36m0.6666\u001b[0m\u001b[1;33m,\u001b[0m \u001b[1;36m0.0\u001b[0m\u001b[1;33m,\u001b[0m \u001b[1;36m200.0\u001b[0m\u001b[1;33m,\u001b[0m \u001b[1;36m0.1\u001b[0m\u001b[1;33m)\u001b[0m\u001b[1;33m\u001b[0m\u001b[0m\n\u001b[0m",
      "\u001b[0;31mNameError\u001b[0m: name 'int_pendulum' is not defined"
     ]
    }
   ],
   "source": [
    "t, y = int_pendulum(np.radians(10), 0.0, 0.6666, 0.0, 200.0, 0.1)"
   ]
  },
  {
   "cell_type": "markdown",
   "metadata": {},
   "source": [
    "Your task is to complete the power spectrum routine below to calculate the FFT of theta and plot it.  Experiment with the damping and driving parameters to see the complexity of the pendulum in frequency space when it becomes chaotic.  For reference, here's a plot of the solution theta"
   ]
  },
  {
   "cell_type": "code",
   "execution_count": 9,
   "metadata": {
    "collapsed": false
   },
   "outputs": [
    {
     "ename": "NameError",
     "evalue": "name 't' is not defined",
     "output_type": "error",
     "traceback": [
      "\u001b[0;31m---------------------------------------------------------------------------\u001b[0m",
      "\u001b[0;31mNameError\u001b[0m                                 Traceback (most recent call last)",
      "\u001b[0;32m<ipython-input-9-cff9c819c3c7>\u001b[0m in \u001b[0;36m<module>\u001b[0;34m()\u001b[0m\n\u001b[0;32m----> 1\u001b[0;31m \u001b[0mplt\u001b[0m\u001b[1;33m.\u001b[0m\u001b[0mplot\u001b[0m\u001b[1;33m(\u001b[0m\u001b[0mt\u001b[0m\u001b[1;33m,\u001b[0m \u001b[0mrestrict_theta\u001b[0m\u001b[1;33m(\u001b[0m\u001b[0my\u001b[0m\u001b[1;33m[\u001b[0m\u001b[1;36m0\u001b[0m\u001b[1;33m,\u001b[0m\u001b[1;33m:\u001b[0m\u001b[1;33m]\u001b[0m\u001b[1;33m)\u001b[0m\u001b[1;33m)\u001b[0m\u001b[1;33m\u001b[0m\u001b[0m\n\u001b[0m\u001b[1;32m      2\u001b[0m \u001b[0mplt\u001b[0m\u001b[1;33m.\u001b[0m\u001b[0mxlabel\u001b[0m\u001b[1;33m(\u001b[0m\u001b[1;34m\"t\"\u001b[0m\u001b[1;33m)\u001b[0m\u001b[1;33m\u001b[0m\u001b[0m\n\u001b[1;32m      3\u001b[0m \u001b[0mplt\u001b[0m\u001b[1;33m.\u001b[0m\u001b[0mylabel\u001b[0m\u001b[1;33m(\u001b[0m\u001b[1;34mr\"$\\theta$\"\u001b[0m\u001b[1;33m)\u001b[0m\u001b[1;33m\u001b[0m\u001b[0m\n",
      "\u001b[0;31mNameError\u001b[0m: name 't' is not defined"
     ]
    }
   ],
   "source": [
    "plt.plot(t, restrict_theta(y[0,:]))\n",
    "plt.xlabel(\"t\")\n",
    "plt.ylabel(r\"$\\theta$\")"
   ]
  },
  {
   "cell_type": "code",
   "execution_count": 10,
   "metadata": {
    "collapsed": true
   },
   "outputs": [],
   "source": [
    "def power_spectrum(t, theta0):\n",
    "    \"\"\" return the power spectrum of theta.  For the frequency\n",
    "        component, return it in terms of omega \"\"\"\n",
    "\n",
    "    theta = restrict_theta(theta0)\n",
    "    \n",
    "    # fill in the rest -- take the FFT of theta and return omega_k and \n",
    "    # the transform of theta\n"
   ]
  },
  {
   "cell_type": "code",
   "execution_count": null,
   "metadata": {
    "collapsed": true
   },
   "outputs": [],
   "source": []
  },
  {
   "cell_type": "markdown",
   "metadata": {},
   "source": [
    "# Fitting"
   ]
  },
  {
   "cell_type": "markdown",
   "metadata": {},
   "source": [
    "## Q4: Let's find the errors on our fit\n",
    "\n",
    "We looked at fits, but not what the errors are on the fit.  Look at `scipy.optimize.curve_fit()`.  This is a simplified wrapper on the least squares fitting.  It can return the convariance matrix, the diagonals of which can give the error of the fit for the parameters.  \n",
    "\n",
    "Make up some data that models a non-linear function (by introducing some random noise) and perform a fit and find the errors on the parameters."
   ]
  },
  {
   "cell_type": "code",
   "execution_count": 16,
   "metadata": {
    "collapsed": false
   },
   "outputs": [
    {
     "data": {
      "text/plain": [
       "<matplotlib.collections.PathCollection at 0x92865f8>"
      ]
     },
     "execution_count": 16,
     "metadata": {},
     "output_type": "execute_result"
    },
    {
     "data": {
      "image/png": "[encoded data removed]",
      "text/plain": [
       "<matplotlib.figure.Figure at 0x8d5ee80>"
      ]
     },
     "metadata": {},
     "output_type": "display_data"
    }
   ],
   "source": [
    "from scipy.optimize import curve_fit\n",
    "\n",
    "def y_experiment2(a1, a2, a3, sigma, x):\n",
    "    \"\"\" return the experimental data in a quadratic + random fashion,                              \n",
    "        with a1, a2, a3 the coefficients of the quadratic and sigma is                             \n",
    "        the error.  This will be poorly matched to a linear fit for                                \n",
    "        a3 != 0 \"\"\"\n",
    "\n",
    "    N = len(x)\n",
    "\n",
    "    # randn gives samples from the \"standard normal\" distribution                                  \n",
    "    r = np.random.randn(N)\n",
    "\n",
    "    y = a1 + a2*x + a3*x*x + sigma*r\n",
    "\n",
    "    return y\n",
    "\n",
    "def func(x, a, b, c):\n",
    "    return a*x**2 + b*x + c\n",
    "\n",
    "N = 40\n",
    "sigma = 5.0*np.ones(N)\n",
    "\n",
    "xdata = np.linspace(0, 100.0, N)\n",
    "ydata = y_experiment2(2.0, 1.50, -0.02, sigma, xdata)\n",
    "\n",
    "popt, pcov = curve_fit(func, xdata, ydata)\n",
    "plt.plot(xdata, func(xdata, *popt), 'r-')\n",
    "plt.scatter(xdata, ydata)"
   ]
  }
 ],
 "metadata": {
  "kernelspec": {
   "display_name": "Python 3",
   "language": "python",
   "name": "python3"
  },
  "language_info": {
   "codemirror_mode": {
    "name": "ipython",
    "version": 3
   },
   "file_extension": ".py",
   "mimetype": "text/x-python",
   "name": "python",
   "nbconvert_exporter": "python",
   "pygments_lexer": "ipython3",
   "version": "3.6.0"
  }
 },
 "nbformat": 4,
 "nbformat_minor": 2
}
