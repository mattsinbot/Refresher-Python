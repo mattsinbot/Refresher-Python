{
 "cells": [
  {
   "cell_type": "code",
   "execution_count": 86,
   "metadata": {
    "collapsed": false
   },
   "outputs": [
    {
     "ename": "ImportError",
     "evalue": "cannot import name 'odeint'",
     "output_type": "error",
     "traceback": [
      "\u001b[0;31m---------------------------------------------------------------------------\u001b[0m",
      "\u001b[0;31mImportError\u001b[0m                               Traceback (most recent call last)",
      "\u001b[0;32m<ipython-input-86-fae9088a21ad>\u001b[0m in \u001b[0;36m<module>\u001b[0;34m()\u001b[0m\n\u001b[1;32m      1\u001b[0m \u001b[1;32mimport\u001b[0m \u001b[0mnumpy\u001b[0m \u001b[1;32mas\u001b[0m \u001b[0mnp\u001b[0m\u001b[1;33m\u001b[0m\u001b[0m\n\u001b[0;32m----> 2\u001b[0;31m \u001b[1;32mfrom\u001b[0m \u001b[0mscipy\u001b[0m \u001b[1;32mimport\u001b[0m \u001b[0mintegrate\u001b[0m\u001b[1;33m,\u001b[0m \u001b[0minterpolate\u001b[0m\u001b[1;33m,\u001b[0m \u001b[0moptimize\u001b[0m\u001b[1;33m,\u001b[0m \u001b[0modeint\u001b[0m\u001b[1;33m\u001b[0m\u001b[0m\n\u001b[0m\u001b[1;32m      3\u001b[0m \u001b[0mget_ipython\u001b[0m\u001b[1;33m(\u001b[0m\u001b[1;33m)\u001b[0m\u001b[1;33m.\u001b[0m\u001b[0mmagic\u001b[0m\u001b[1;33m(\u001b[0m\u001b[1;34m'matplotlib inline'\u001b[0m\u001b[1;33m)\u001b[0m\u001b[1;33m\u001b[0m\u001b[0m\n\u001b[1;32m      4\u001b[0m \u001b[1;32mimport\u001b[0m \u001b[0mmatplotlib\u001b[0m\u001b[1;33m.\u001b[0m\u001b[0mpyplot\u001b[0m \u001b[1;32mas\u001b[0m \u001b[0mplt\u001b[0m\u001b[1;33m\u001b[0m\u001b[0m\n",
      "\u001b[0;31mImportError\u001b[0m: cannot import name 'odeint'"
     ]
    }
   ],
   "source": [
    "import numpy as np\n",
    "from scipy import integrate, interpolate, optimize, odeint\n",
    "%matplotlib inline\n",
    "import matplotlib.pyplot as plt"
   ]
  },
  {
   "cell_type": "markdown",
   "metadata": {},
   "source": [
    "# Q1 Integrating an analytic function"
   ]
  },
  {
   "cell_type": "code",
   "execution_count": 53,
   "metadata": {
    "collapsed": true
   },
   "outputs": [],
   "source": [
    "def f(x):\n",
    "    return np.exp(-x**2)"
   ]
  },
  {
   "cell_type": "code",
   "execution_count": 54,
   "metadata": {
    "collapsed": false
   },
   "outputs": [
    {
     "name": "stdout",
     "output_type": "stream",
     "text": [
      "1.7724538509027912\n",
      "4.636623029965036e-14\n"
     ]
    }
   ],
   "source": [
    "I, err = integrate.quad(f, -5, 5, epsabs=1.e-14)\n",
    "print(I)\n",
    "print(err)"
   ]
  },
  {
   "cell_type": "markdown",
   "metadata": {},
   "source": [
    "# Q2 Integration of sampled function"
   ]
  },
  {
   "cell_type": "code",
   "execution_count": 55,
   "metadata": {
    "collapsed": false
   },
   "outputs": [
    {
     "name": "stdout",
     "output_type": "stream",
     "text": [
      "1.77245385092\n",
      "1.7724538509\n",
      "1.7724538509\n"
     ]
    }
   ],
   "source": [
    "N = [32, 64, 128]\n",
    "\n",
    "for i in N:\n",
    "    x = np.linspace(-5, 5, i)\n",
    "    f = np.exp(-x**2)\n",
    "\n",
    "    # Integrate sampled function\n",
    "    I = integrate.simps(f, x)\n",
    "    print (I)"
   ]
  },
  {
   "cell_type": "markdown",
   "metadata": {},
   "source": [
    "# Q3 Interpolation"
   ]
  },
  {
   "cell_type": "code",
   "execution_count": 56,
   "metadata": {
    "collapsed": true
   },
   "outputs": [],
   "source": [
    "def f_exact(x):\n",
    "    return np.sin(x) + np.cos(x) + 0.1"
   ]
  },
  {
   "cell_type": "code",
   "execution_count": 57,
   "metadata": {
    "collapsed": false
   },
   "outputs": [
    {
     "data": {
      "text/plain": [
       "<matplotlib.legend.Legend at 0xa5eed30>"
      ]
     },
     "execution_count": 57,
     "metadata": {},
     "output_type": "execute_result"
    },
    {
     "data": {
      "image/png": "[encoded data removed]",
      "text/plain": [
       "<matplotlib.figure.Figure at 0xa3fd748>"
      ]
     },
     "metadata": {},
     "output_type": "display_data"
    }
   ],
   "source": [
    "N = 10\n",
    "x = np.linspace(0, 20, 20)\n",
    "y = f_exact(x)\n",
    "\n",
    "# create interpolation object\n",
    "fInterp = interpolate.interp1d(x, y, kind=3)\n",
    "\n",
    "# generate finer points to plot interpolation\n",
    "intr_plot = np.linspace(0, 20, 100)\n",
    "\n",
    "plt.plot(x, y, 'bo', label='known points')\n",
    "plt.plot(intr_plot, fInterp(intr_plot), 'g', label='interpolant')\n",
    "plt.plot(intr_plot, f_exact(intr_plot), '--', label='exact function')\n",
    "plt.legend(frameon = True, loc='best')"
   ]
  },
  {
   "cell_type": "markdown",
   "metadata": {},
   "source": [
    "# Q4 Roots of scalar function"
   ]
  },
  {
   "cell_type": "code",
   "execution_count": 58,
   "metadata": {
    "collapsed": true
   },
   "outputs": [],
   "source": [
    "def f(x):\n",
    "    return x**3 - 2*x**2 - 11*x + 12"
   ]
  },
  {
   "cell_type": "code",
   "execution_count": 68,
   "metadata": {
    "collapsed": false
   },
   "outputs": [
    {
     "name": "stdout",
     "output_type": "stream",
     "text": [
      "Root 1: 4.0\n",
      "True\n",
      "Root 2: -3.0\n",
      "True\n",
      "Root 3: 1.0\n",
      "True\n"
     ]
    }
   ],
   "source": [
    "# Compute root1 (search interval [3, 4.5])\n",
    "root1, r = optimize.brentq(f, 3, 4.5, full_output=True)\n",
    "print ('Root 1: {}'.format(root1))\n",
    "print (r.converged)\n",
    "\n",
    "# Compute root2 (search interval [-1, -3])\n",
    "root2, r = optimize.brentq(f, -3, -2, full_output=True)\n",
    "print ('Root 2: {}'.format(root2))\n",
    "print (r.converged)\n",
    "\n",
    "# Compute root3 (search interval [3, 5])\n",
    "root3, r = optimize.brentq(f, -1, 1, full_output=True)\n",
    "print ('Root 3: {}'.format(root3))\n",
    "print (r.converged)"
   ]
  },
  {
   "cell_type": "markdown",
   "metadata": {},
   "source": [
    "# Q5 ODEs : Planetary Orbits"
   ]
  },
  {
   "cell_type": "code",
   "execution_count": 78,
   "metadata": {
    "collapsed": true
   },
   "outputs": [],
   "source": []
  },
  {
   "cell_type": "code",
   "execution_count": 79,
   "metadata": {
    "collapsed": true
   },
   "outputs": [],
   "source": [
    "def rhs(t, Y, GM=4*np.pi**2):\n",
    "    \"\"\"RHS for orbits, Y is the solution vector, containing\n",
    "    x, y, v_x, and v_y\"\"\"\n",
    "\n",
    "    x, y, vx, vy = Y\n",
    "    f = np.zeros_like(Y)\n",
    "\n",
    "    # dx/dt = vx\n",
    "    f[0] = vx\n",
    "\n",
    "    # dy/dt = vy\n",
    "    f[1] = vy\n",
    "\n",
    "    # d(vx)/dt = -GMx/r**3\n",
    "    r = np.sqrt(x**2 + y**2)\n",
    "    f[2] = -GM*x/r**3\n",
    "\n",
    "    # d(vy)/dt = -GMy/r**3\n",
    "    f[3] = -GM*y/r**3\n",
    "\n",
    "    return f"
   ]
  },
  {
   "cell_type": "code",
   "execution_count": 84,
   "metadata": {
    "collapsed": true
   },
   "outputs": [],
   "source": [
    "def ode_integrate(X0, dt, tmax):\n",
    "    \"\"\" integrate using the VODE method, storing the solution each dt \"\"\"\n",
    "\n",
    "    r = scipy.integrate.solve_ivp(rhs, (0.0, tmax), X0,\n",
    "                            method=\"RK45\", dense_output=True)\n",
    "\n",
    "    # get the solution at intermediate times\n",
    "    ts = np.arange(0.0, tmax, dt)\n",
    "    \n",
    "    Xs = r.sol(ts)\n",
    "    return ts, Xs"
   ]
  },
  {
   "cell_type": "code",
   "execution_count": 85,
   "metadata": {
    "collapsed": false
   },
   "outputs": [
    {
     "ename": "AttributeError",
     "evalue": "module 'scipy.integrate' has no attribute 'solve_ivp'",
     "output_type": "error",
     "traceback": [
      "\u001b[0;31m---------------------------------------------------------------------------\u001b[0m",
      "\u001b[0;31mAttributeError\u001b[0m                            Traceback (most recent call last)",
      "\u001b[0;32m<ipython-input-85-f86c8295a8c6>\u001b[0m in \u001b[0;36m<module>\u001b[0;34m()\u001b[0m\n\u001b[1;32m      6\u001b[0m \u001b[1;33m\u001b[0m\u001b[0m\n\u001b[1;32m      7\u001b[0m \u001b[1;31m# call ODE solver function\u001b[0m\u001b[1;33m\u001b[0m\u001b[1;33m\u001b[0m\u001b[0m\n\u001b[0;32m----> 8\u001b[0;31m \u001b[0mt\u001b[0m\u001b[1;33m,\u001b[0m \u001b[0mX\u001b[0m \u001b[1;33m=\u001b[0m \u001b[0mode_integrate\u001b[0m\u001b[1;33m(\u001b[0m\u001b[0mx0\u001b[0m\u001b[1;33m,\u001b[0m \u001b[0mdt\u001b[0m\u001b[1;33m,\u001b[0m \u001b[0mtmax\u001b[0m\u001b[1;33m)\u001b[0m\u001b[1;33m\u001b[0m\u001b[0m\n\u001b[0m",
      "\u001b[0;32m<ipython-input-84-32a6ce27c7a0>\u001b[0m in \u001b[0;36mode_integrate\u001b[0;34m(X0, dt, tmax)\u001b[0m\n\u001b[1;32m      2\u001b[0m     \u001b[1;34m\"\"\" integrate using the VODE method, storing the solution each dt \"\"\"\u001b[0m\u001b[1;33m\u001b[0m\u001b[0m\n\u001b[1;32m      3\u001b[0m \u001b[1;33m\u001b[0m\u001b[0m\n\u001b[0;32m----> 4\u001b[0;31m     r = scipy.integrate.solve_ivp(rhs, (0.0, tmax), X0,\n\u001b[0m\u001b[1;32m      5\u001b[0m                             method=\"RK45\", dense_output=True)\n\u001b[1;32m      6\u001b[0m \u001b[1;33m\u001b[0m\u001b[0m\n",
      "\u001b[0;31mAttributeError\u001b[0m: module 'scipy.integrate' has no attribute 'solve_ivp'"
     ]
    }
   ],
   "source": [
    "# Initial condition, time difference, \n",
    "x0 = [0.75, 0.0, 0.0, 0.0]\n",
    "dt = 0.02\n",
    "tmax = 2\n",
    "t = np.linspace(0, tmax, dt)\n",
    "\n",
    "z = integrate.odeint(rhs, x0, )\n",
    "\n",
    "# call ODE solver function\n",
    "# t, X = ode_integrate(x0, dt, tmax)"
   ]
  },
  {
   "cell_type": "code",
   "execution_count": null,
   "metadata": {
    "collapsed": true
   },
   "outputs": [],
   "source": []
  }
 ],
 "metadata": {
  "kernelspec": {
   "display_name": "Python 3",
   "language": "python",
   "name": "python3"
  },
  "language_info": {
   "codemirror_mode": {
    "name": "ipython",
    "version": 3
   },
   "file_extension": ".py",
   "mimetype": "text/x-python",
   "name": "python",
   "nbconvert_exporter": "python",
   "pygments_lexer": "ipython3",
   "version": "3.6.0"
  }
 },
 "nbformat": 4,
 "nbformat_minor": 2
}
