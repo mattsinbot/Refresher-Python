{
 "cells": [
  {
   "cell_type": "code",
   "execution_count": 1,
   "metadata": {
    "collapsed": true
   },
   "outputs": [],
   "source": [
    "def four_letter_words(message, n = 4):\n",
    "    words = message.split()\n",
    "    four_letters = [w for w in words if len(w) == n]\n",
    "    return four_letters"
   ]
  },
  {
   "cell_type": "code",
   "execution_count": 2,
   "metadata": {
    "collapsed": false
   },
   "outputs": [
    {
     "name": "stdout",
     "output_type": "stream",
     "text": [
      "['The', 'fox', 'the', 'dog']\n"
     ]
    }
   ],
   "source": [
    "message = \"The quick brown fox jumps over the lazy dog\"\n",
    "print(four_letter_words(message, 3))"
   ]
  },
  {
   "cell_type": "code",
   "execution_count": 3,
   "metadata": {
    "collapsed": false
   },
   "outputs": [],
   "source": [
    "def prime_number(max_num):\n",
    "    prime_list = [2]\n",
    "    add_prime_flg = 0\n",
    "    for i in range(3, max_num):\n",
    "        for j in range(len(prime_list)):\n",
    "            if i%prime_list[j] == 0:\n",
    "                add_prime_flg = 0\n",
    "                break\n",
    "            if i%prime_list[j] != 0:\n",
    "                add_prime_flg = 1\n",
    "        if add_prime_flg == 1:\n",
    "            prime_list.append(i)\n",
    "        add_prime_flg = 0             # reset add_prime flag\n",
    "    print('List of Prime Numbers : {}'.format(prime_list))"
   ]
  },
  {
   "cell_type": "code",
   "execution_count": 4,
   "metadata": {
    "collapsed": false
   },
   "outputs": [
    {
     "name": "stdout",
     "output_type": "stream",
     "text": [
      "List of Prime Numbers : [2, 3, 5, 7, 11, 13, 17, 19, 23, 29, 31, 37, 41, 43, 47]\n"
     ]
    }
   ],
   "source": [
    "prime_number(50)"
   ]
  },
  {
   "cell_type": "code",
   "execution_count": 5,
   "metadata": {
    "collapsed": true
   },
   "outputs": [],
   "source": [
    "board = \"\"\"\n",
    " {s1:^3} | {s2:^3} | {s3:^3}\n",
    "-----+-----+-----\n",
    " {s4:^3} | {s5:^3} | {s6:^3}\n",
    "-----+-----+-----      123\n",
    " {s7:^3} | {s8:^3} | {s9:^3}       456\n",
    "                       789  \n",
    "\"\"\""
   ]
  },
  {
   "cell_type": "code",
   "execution_count": 6,
   "metadata": {
    "collapsed": false
   },
   "outputs": [],
   "source": [
    "def initialize_board(play):\n",
    "    for n in range(9):\n",
    "        play[\"s{}\".format(n+1)] = \"\""
   ]
  },
  {
   "cell_type": "code",
   "execution_count": 7,
   "metadata": {
    "collapsed": false
   },
   "outputs": [],
   "source": [
    "def show_board(play):\n",
    "    \"\"\" display the playing board.  We take a dictionary with the current state of the board\n",
    "    We rely on the board string to be a global variable\"\"\"\n",
    "    print(board.format(**play))"
   ]
  },
  {
   "cell_type": "code",
   "execution_count": 8,
   "metadata": {
    "collapsed": true
   },
   "outputs": [],
   "source": [
    "def get_move(n, xo, play):\n",
    "    \"\"\" ask the current player, n, to make a move -- make sure the square was not \n",
    "        already played.  xo is a string of the character (x or o) we will place in\n",
    "        the desired square \"\"\"\n",
    "    valid_move = False\n",
    "    while not valid_move:\n",
    "        idx = input(\"player {}, enter your move (1-9)\".format(n))\n",
    "        if play[\"s{}\".format(idx)] == \"\":\n",
    "            valid_move = True\n",
    "        else:\n",
    "            print(\"invalid: {}\".format(play[\"s{}\".format(idx)]))\n",
    "            \n",
    "    play[\"s{}\".format(idx)] = xo"
   ]
  },
  {
   "cell_type": "code",
   "execution_count": 9,
   "metadata": {
    "collapsed": true
   },
   "outputs": [],
   "source": [
    "def play_game(play1):\n",
    "    \"\"\" play a game of tic-tac-toe \"\"\"\n",
    "    initialize_board(play1)\n",
    "    show_board(play1)\n",
    "    for i in range(9):\n",
    "        if i%2 == 0:\n",
    "            get_move(i%2, 'o', play1)\n",
    "        else:\n",
    "            get_move(1, 'x', play1)\n",
    "        show_board(play1)"
   ]
  },
  {
   "cell_type": "code",
   "execution_count": 10,
   "metadata": {
    "collapsed": false
   },
   "outputs": [
    {
     "name": "stdout",
     "output_type": "stream",
     "text": [
      "\n",
      "     |     |    \n",
      "-----+-----+-----\n",
      "     |     |    \n",
      "-----+-----+-----      123\n",
      "     |     |           456\n",
      "                       789  \n",
      "\n",
      "player 0, enter your move (1-9)1\n",
      "\n",
      "  o  |     |    \n",
      "-----+-----+-----\n",
      "     |     |    \n",
      "-----+-----+-----      123\n",
      "     |     |           456\n",
      "                       789  \n",
      "\n",
      "player 1, enter your move (1-9)5\n",
      "\n",
      "  o  |     |    \n",
      "-----+-----+-----\n",
      "     |  x  |    \n",
      "-----+-----+-----      123\n",
      "     |     |           456\n",
      "                       789  \n",
      "\n",
      "player 0, enter your move (1-9)9\n",
      "\n",
      "  o  |     |    \n",
      "-----+-----+-----\n",
      "     |  x  |    \n",
      "-----+-----+-----      123\n",
      "     |     |  o        456\n",
      "                       789  \n",
      "\n",
      "player 1, enter your move (1-9)4\n",
      "\n",
      "  o  |     |    \n",
      "-----+-----+-----\n",
      "  x  |  x  |    \n",
      "-----+-----+-----      123\n",
      "     |     |  o        456\n",
      "                       789  \n",
      "\n",
      "player 0, enter your move (1-9)6\n",
      "\n",
      "  o  |     |    \n",
      "-----+-----+-----\n",
      "  x  |  x  |  o \n",
      "-----+-----+-----      123\n",
      "     |     |  o        456\n",
      "                       789  \n",
      "\n",
      "player 1, enter your move (1-9)8\n",
      "\n",
      "  o  |     |    \n",
      "-----+-----+-----\n",
      "  x  |  x  |  o \n",
      "-----+-----+-----      123\n",
      "     |  x  |  o        456\n",
      "                       789  \n",
      "\n",
      "player 0, enter your move (1-9)7\n",
      "\n",
      "  o  |     |    \n",
      "-----+-----+-----\n",
      "  x  |  x  |  o \n",
      "-----+-----+-----      123\n",
      "  o  |  x  |  o        456\n",
      "                       789  \n",
      "\n",
      "player 1, enter your move (1-9)3\n",
      "\n",
      "  o  |     |  x \n",
      "-----+-----+-----\n",
      "  x  |  x  |  o \n",
      "-----+-----+-----      123\n",
      "  o  |  x  |  o        456\n",
      "                       789  \n",
      "\n",
      "player 0, enter your move (1-9)2\n",
      "\n",
      "  o  |  o  |  x \n",
      "-----+-----+-----\n",
      "  x  |  x  |  o \n",
      "-----+-----+-----      123\n",
      "  o  |  x  |  o        456\n",
      "                       789  \n",
      "\n"
     ]
    }
   ],
   "source": [
    "play = {}\n",
    "play_game(play)"
   ]
  },
  {
   "cell_type": "code",
   "execution_count": 12,
   "metadata": {
    "collapsed": false
   },
   "outputs": [
    {
     "name": "stdout",
     "output_type": "stream",
     "text": [
      "1.2345631542513156 <class 'float'>\n"
     ]
    }
   ],
   "source": [
    "a = \"1.234563154251315647156461\"\n",
    "b = float(a)\n",
    "print(b, type(b))"
   ]
  }
 ],
 "metadata": {
  "kernelspec": {
   "display_name": "Python 3",
   "language": "python",
   "name": "python3"
  },
  "language_info": {
   "codemirror_mode": {
    "name": "ipython",
    "version": 3
   },
   "file_extension": ".py",
   "mimetype": "text/x-python",
   "name": "python",
   "nbconvert_exporter": "python",
   "pygments_lexer": "ipython3",
   "version": "3.6.0"
  }
 },
 "nbformat": 4,
 "nbformat_minor": 2
}
